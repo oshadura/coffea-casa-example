{
 "cells": [
  {
   "cell_type": "code",
   "execution_count": null,
   "metadata": {},
   "outputs": [],
   "source": [
    "from __future__ import division, print_function"
   ]
  },
  {
   "cell_type": "code",
   "execution_count": null,
   "metadata": {},
   "outputs": [],
   "source": [
    "import os\n",
    "import os.path as osp\n",
    "import sys\n",
    "import warnings"
   ]
  },
  {
   "cell_type": "code",
   "execution_count": null,
   "metadata": {},
   "outputs": [],
   "source": [
    "import coffea.processor as processor\n",
    "import numpy as np\n",
    "from coffea import hist\n",
    "from coffea import processor as processor\n",
    "from coffea.analysis_objects import JaggedCandidateArray\n",
    "from coffea.processor.test_items import NanoTestProcessor\n",
    "from dask.distributed import Client, LocalCluster\n",
    "from dask_jobqueue import HTCondorCluster\n",
    "from distributed.security import Security"
   ]
  },
  {
   "cell_type": "code",
   "execution_count": null,
   "metadata": {},
   "outputs": [],
   "source": [
    "#'ZJets': ['/mnt/hadoop/user/uscms01/pnfs/unl.edu/data4/cms/store/user/oshadura/nano_dy.root'],\n",
    "#'Data' : ['/mnt/hadoop/user/uscms01/pnfs/unl.edu/data4/cms/store/user/oshadura/nano_dimuon.root']\n",
    "filelist = {\n",
    "        'ZJets': ['data/nano_dy.root'],\n",
    "        'Data' : ['data/nano_dimuon.root']\n",
    "        }\n",
    "treename = 'Events'\n",
    "compression = 2"
   ]
  },
  {
   "cell_type": "code",
   "execution_count": null,
   "metadata": {},
   "outputs": [],
   "source": [
    "#Coffea test processor\n",
    "proc = NanoTestProcessor()"
   ]
  },
  {
   "cell_type": "code",
   "execution_count": null,
   "metadata": {},
   "outputs": [],
   "source": [
    "sec_dask = Security(tls_ca_file='/etc/cmsaf-secrets/ca.pem',\n",
    "               tls_worker_cert='/etc/cmsaf-secrets/usercert.pem',\n",
    "               tls_worker_key='/etc/cmsaf-secrets/userkey.pem',\n",
    "               tls_scheduler_cert='/etc/cmsaf-secrets/hostcert.pem',\n",
    "               tls_scheduler_key='/etc/cmsaf-secrets/hostkey.pem',\n",
    "               require_encryption=True)"
   ]
  },
  {
   "cell_type": "code",
   "execution_count": null,
   "metadata": {},
   "outputs": [],
   "source": [
    "cluster = HTCondorCluster(cores=4,\n",
    "                          memory=\"2GB\",\n",
    "                          disk=\"1GB\",\n",
    "                          log_directory=\"logs\",\n",
    "                          silence_logs=\"debug\",\n",
    "                          scheduler_options= {\"dashboard_address\":\"8786\",\"port\":8787, \"external_address\": \"129.93.183.33:8787\"},\n",
    "                          # HTCondor submit script\n",
    "                          job_extra={\"universe\": \"docker\",\n",
    "                                     # To be used with coffea-casa:0.1.4\n",
    "                                     \"encrypt_input_files\": \"/etc/cmsaf-secrets/xcache_token\",\n",
    "                                     #\"docker_network_type\": \"host\",\n",
    "                                     \"docker_image\": \"oshadura/coffea-casa-analysis:0.1.6\", \n",
    "                                     \"container_service_names\": \"dask\",\n",
    "                                     \"dask_container_port\": \"8787\",\n",
    "                                     \"should_transfer_files\": \"YES\",\n",
    "                                     \"when_to_transfer_output\": \"ON_EXIT\",\n",
    "                                     \"+DaskSchedulerAddress\": '\"129.93.183.33:8787\"',\n",
    "                                    })"
   ]
  },
  {
   "cell_type": "code",
   "execution_count": null,
   "metadata": {},
   "outputs": [],
   "source": [
    "cluster.scale(jobs=1)"
   ]
  },
  {
   "cell_type": "code",
   "execution_count": null,
   "metadata": {},
   "outputs": [],
   "source": [
    "client = Client(cluster)#, security=sec_dask)"
   ]
  },
  {
   "cell_type": "code",
   "execution_count": null,
   "metadata": {},
   "outputs": [],
   "source": [
    "print(\"Dask client: \", client)"
   ]
  },
  {
   "cell_type": "code",
   "execution_count": null,
   "metadata": {},
   "outputs": [],
   "source": [
    "exe_args = {\n",
    "        'client': client,\n",
    "        'compression': compression,\n",
    "}"
   ]
  },
  {
   "cell_type": "code",
   "execution_count": null,
   "metadata": {},
   "outputs": [],
   "source": [
    "hists = processor.run_uproot_job(filelist,\n",
    "                                 treename,\n",
    "                                 processor_instance=proc,\n",
    "                                 executor=processor.dask_executor,\n",
    "                                 #executor=processor.futures_executor,\n",
    "                                 executor_args=exe_args)"
   ]
  },
  {
   "cell_type": "code",
   "execution_count": null,
   "metadata": {},
   "outputs": [],
   "source": [
    "assert( hists['cutflow']['ZJets_pt'] == 18 )\n",
    "assert( hists['cutflow']['ZJets_mass'] == 6 )\n",
    "assert( hists['cutflow']['Data_pt'] == 84 )\n",
    "assert( hists['cutflow']['Data_mass'] == 66 )"
   ]
  }
 ],
 "metadata": {
  "jupytext": {
   "cell_metadata_filter": "-all",
   "main_language": "python",
   "notebook_metadata_filter": "-all"
  }
 },
 "nbformat": 4,
 "nbformat_minor": 2
}
